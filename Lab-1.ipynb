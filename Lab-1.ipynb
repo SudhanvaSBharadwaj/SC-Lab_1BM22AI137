{
 "cells": [
  {
   "cell_type": "markdown",
   "id": "8e4cbb8f",
   "metadata": {},
   "source": [
    "### PROGRAM - 1 : Fuzzy Relations"
   ]
  },
  {
   "cell_type": "code",
   "execution_count": 1,
   "id": "233e1829",
   "metadata": {},
   "outputs": [
    {
     "name": "stdout",
     "output_type": "stream",
     "text": [
      "Input: Temperature = Low Temp, Humidity = Dry\n",
      "Membership values for Cooling Actions: [0.7, 0.4, 0.3]\n",
      "The system selects: Low Cooling with a membership value of 0.70\n"
     ]
    }
   ],
   "source": [
    "R = {\n",
    "    \"Low Temp\": [0.8, 0.5, 0.3],\n",
    "    \"Medium Temp\": [0.6, 0.7, 0.4],\n",
    "    \"High Temp\": [0.3, 0.6, 0.9]\n",
    "}\n",
    "S = {\n",
    "    \"Dry\": [0.7, 0.4, 0.3],\n",
    "    \"Normal\": [0.5, 0.6, 0.4],\n",
    "    \"Humid\": [0.2, 0.5, 0.8]\n",
    "}\n",
    "temp_input = \"Low Temp\"\n",
    "humidity_input = \"Dry\"\n",
    "\n",
    "mu_R = R[temp_input]\n",
    "mu_S = S[humidity_input]\n",
    "\n",
    "def min_max_composition(mu_R, mu_S):\n",
    "    res = []\n",
    "    for i in range(3):\n",
    "        min_value = min(mu_R[i], mu_S[i])\n",
    "        res.append(min_value)\n",
    "    return res\n",
    "\n",
    "composed_res = min_max_composition(mu_R, mu_S)\n",
    "\n",
    "cooling_actions = [\"Low Cooling\", \"Medium Cooling\", \"High Cooling\"]\n",
    "max_membership_value = max(composed_res)\n",
    "action_index = composed_res.index(max_membership_value)\n",
    "\n",
    "print(f\"Input: Temperature = {temp_input}, Humidity = {humidity_input}\")\n",
    "print(f\"Membership values for Cooling Actions: {composed_res}\")\n",
    "print(f\"The system selects: {cooling_actions[action_index]} with a membership value of {max_membership_value:.2f}\")"
   ]
  }
 ],
 "metadata": {
  "kernelspec": {
   "display_name": "Python 3",
   "language": "python",
   "name": "python3"
  },
  "language_info": {
   "codemirror_mode": {
    "name": "ipython",
    "version": 3
   },
   "file_extension": ".py",
   "mimetype": "text/x-python",
   "name": "python",
   "nbconvert_exporter": "python",
   "pygments_lexer": "ipython3",
   "version": "3.12.7"
  }
 },
 "nbformat": 4,
 "nbformat_minor": 5
}

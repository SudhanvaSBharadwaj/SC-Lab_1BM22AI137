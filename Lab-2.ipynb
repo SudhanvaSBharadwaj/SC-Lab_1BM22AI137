{
 "cells": [
  {
   "cell_type": "markdown",
   "id": "2846ebb0",
   "metadata": {},
   "source": [
    "### PROGRAM - 2 : Defuzzification and Controller"
   ]
  },
  {
   "cell_type": "code",
   "execution_count": 1,
   "id": "3babd7a7",
   "metadata": {},
   "outputs": [
    {
     "name": "stdout",
     "output_type": "stream",
     "text": [
      "The elements in the fuzzy set with membership >= 4: ['x', 'z']\n"
     ]
    }
   ],
   "source": [
    "# Lambda cut Method\n",
    "\n",
    "fuzzy_set = {'x': 4.5, 'y': 3.5, 'z': 4.33}\n",
    "lambda_value = 4\n",
    "\n",
    "def lambda_cut(fuzzy_set, lambda_value):\n",
    "    cut_set = []\n",
    "    for ele, val in fuzzy_set.items():\n",
    "        if val >= lambda_value:\n",
    "            cut_set.append(ele)\n",
    "    return cut_set\n",
    "\n",
    "res = lambda_cut(fuzzy_set, lambda_value)\n",
    "print(f\"The elements in the fuzzy set with membership >= {lambda_value}: {res}\")"
   ]
  },
  {
   "cell_type": "code",
   "execution_count": 2,
   "id": "9dd47b04",
   "metadata": {},
   "outputs": [
    {
     "name": "stdout",
     "output_type": "stream",
     "text": [
      "Mean of Maximum (MOM) defuzzified value: 4.5\n"
     ]
    }
   ],
   "source": [
    "# Mean of Maximum Method\n",
    "\n",
    "def mean_of_maximum(fuzzy_set):\n",
    "    max_membership = max(fuzzy_set.values())\n",
    "    max_x_values = [x for x, mu in fuzzy_set.items() if mu == max_membership]\n",
    "    return sum(max_x_values) / len(max_x_values)\n",
    "\n",
    "fuzzy_set = {1: 0.2, 2: 0.5, 3: 0.8, 4: 1.0, 5: 1.0, 6: 0.7, 7: 0.3}\n",
    "res = mean_of_maximum(fuzzy_set)\n",
    "print(f\"Mean of Maximum (MOM) defuzzified value: {res}\")"
   ]
  },
  {
   "cell_type": "code",
   "execution_count": 3,
   "id": "a0c3f035",
   "metadata": {},
   "outputs": [
    {
     "name": "stdout",
     "output_type": "stream",
     "text": [
      "Center of Gravity (COG) defuzzified value: 3.4687499999999996\n"
     ]
    }
   ],
   "source": [
    "def center_of_gravity(fuzzy_set):\n",
    "    numerator = sum(x * mu for x, mu in fuzzy_set.items())\n",
    "    denominator = sum(fuzzy_set.values())\n",
    "    return numerator / denominator if denominator != 0 else 0\n",
    "\n",
    "fuzzy_set = {1: 0.2, 2: 0.5, 3: 0.8, 4: 1.0, 5: 0.7}\n",
    "result = center_of_gravity(fuzzy_set)\n",
    "print(f\"Center of Gravity (COG) defuzzified value: {result}\")"
   ]
  }
 ],
 "metadata": {
  "kernelspec": {
   "display_name": "Python 3",
   "language": "python",
   "name": "python3"
  },
  "language_info": {
   "codemirror_mode": {
    "name": "ipython",
    "version": 3
   },
   "file_extension": ".py",
   "mimetype": "text/x-python",
   "name": "python",
   "nbconvert_exporter": "python",
   "pygments_lexer": "ipython3",
   "version": "3.12.7"
  }
 },
 "nbformat": 4,
 "nbformat_minor": 5
}

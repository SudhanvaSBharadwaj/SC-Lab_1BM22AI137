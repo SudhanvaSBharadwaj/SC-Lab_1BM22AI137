{
 "cells": [
  {
   "cell_type": "markdown",
   "id": "272ba9af",
   "metadata": {},
   "source": [
    "### PROGRAM - 5 : Ant Colony Optimization"
   ]
  },
  {
   "cell_type": "code",
   "execution_count": 1,
   "id": "2844f805",
   "metadata": {},
   "outputs": [
    {
     "name": "stdout",
     "output_type": "stream",
     "text": [
      "Best Solution:  [0 3 2 1] 40\n"
     ]
    }
   ],
   "source": [
    "import numpy as np\n",
    "\n",
    "num_ants, num_iter, rho, Q = 2, 5, 0.1, 5\n",
    "\n",
    "dist = np.array([[0, 10, 17, 10], [10, 0, 10, 10], [17, 10, 0, 10], [10, 10, 10, 0]])\n",
    "n = len(dist)\n",
    "pher = np.ones((n, n))\n",
    "\n",
    "def cost(path):\n",
    "    return sum(dist[path[i], path[i + 1]] for i in range(n - 1)) + dist[path[-1], path[0]]\n",
    "\n",
    "def update(pher, sols):\n",
    "    for path in sols:\n",
    "        for i in range(n):\n",
    "            pher[path[i], path[(i + 1) % n]] += Q / cost(path)\n",
    "    pher *= (1 - rho)\n",
    "\n",
    "def aco():\n",
    "    best_path, best_cost = None, float('inf')\n",
    "    for _ in range(num_iter):\n",
    "        sols = [np.random.permutation(n) for _ in range(num_ants)]\n",
    "        update(pher, sols)\n",
    "        for path in sols:\n",
    "            c = cost(path)\n",
    "            if c < best_cost:\n",
    "                best_path, best_cost = path, c\n",
    "    return best_path, best_cost\n",
    "\n",
    "print(\"Best Solution: \", *aco())"
   ]
  }
 ],
 "metadata": {
  "kernelspec": {
   "display_name": "Python 3",
   "language": "python",
   "name": "python3"
  },
  "language_info": {
   "codemirror_mode": {
    "name": "ipython",
    "version": 3
   },
   "file_extension": ".py",
   "mimetype": "text/x-python",
   "name": "python",
   "nbconvert_exporter": "python",
   "pygments_lexer": "ipython3",
   "version": "3.12.7"
  }
 },
 "nbformat": 4,
 "nbformat_minor": 5
}

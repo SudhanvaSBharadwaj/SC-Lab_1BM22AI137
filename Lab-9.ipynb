{
 "cells": [
  {
   "cell_type": "markdown",
   "id": "5dccb592",
   "metadata": {},
   "source": [
    "### PROGRAM - 9 : Perceptron Learning Rule"
   ]
  },
  {
   "cell_type": "code",
   "execution_count": 1,
   "id": "bdc2d13e",
   "metadata": {},
   "outputs": [
    {
     "name": "stdout",
     "output_type": "stream",
     "text": [
      "After sample 1, updated weights: [1. 1. 1.]\n",
      "After sample 2, updated weights: [0. 2. 0.]\n",
      "After sample 3, updated weights: [ 1.  1. -1.]\n",
      "After sample 4, updated weights: [ 2.  2. -2.]\n",
      "\n",
      "Final weights after Hebb's Learning:  [ 2.  2. -2.]\n"
     ]
    }
   ],
   "source": [
    "# Hebb's Rule\n",
    "\n",
    "import numpy as np\n",
    "\n",
    "X = np.array([[1, 1, 1],\n",
    "             [1, -1, 1],\n",
    "             [-1, 1, 1],\n",
    "             [-1, -1, 1]])\n",
    "Y = np.array([1, -1, -1, -1])\n",
    "\n",
    "weights = np.zeros(3)\n",
    "\n",
    "for i in range(len(X)):\n",
    "    weights += X[i] * Y[i]\n",
    "    print(f\"After sample {i + 1}, updated weights: {weights}\")\n",
    "\n",
    "print(\"\\nFinal weights after Hebb's Learning: \", weights)"
   ]
  },
  {
   "cell_type": "code",
   "execution_count": 2,
   "id": "191ce171",
   "metadata": {},
   "outputs": [
    {
     "name": "stdout",
     "output_type": "stream",
     "text": [
      "\n",
      "Epoch 1\n",
      "Sample 1: Pred = 0.0, Error = 1.0, Weights = [0.1 0.1 0.1]\n",
      "Sample 2: Pred = 1.0, Error = -2.0, Weights = [-0.1  0.3 -0.1]\n",
      "Sample 3: Pred = 1.0, Error = -2.0, Weights = [ 0.1  0.1 -0.3]\n",
      "Sample 4: Pred = -1.0, Error = 0.0, Weights = [ 0.1  0.1 -0.3]\n",
      "\n",
      "Epoch 2\n",
      "Sample 1: Pred = -1.0, Error = 2.0, Weights = [ 0.3  0.3 -0.1]\n",
      "Sample 2: Pred = -1.0, Error = 0.0, Weights = [ 0.3  0.3 -0.1]\n",
      "Sample 3: Pred = -1.0, Error = 0.0, Weights = [ 0.3  0.3 -0.1]\n",
      "Sample 4: Pred = -1.0, Error = 0.0, Weights = [ 0.3  0.3 -0.1]\n",
      "\n",
      "Epoch 3\n",
      "Sample 1: Pred = 1.0, Error = 0.0, Weights = [ 0.3  0.3 -0.1]\n",
      "Sample 2: Pred = -1.0, Error = 0.0, Weights = [ 0.3  0.3 -0.1]\n",
      "Sample 3: Pred = -1.0, Error = 0.0, Weights = [ 0.3  0.3 -0.1]\n",
      "Sample 4: Pred = -1.0, Error = 0.0, Weights = [ 0.3  0.3 -0.1]\n",
      "\n",
      "Epoch 4\n",
      "Sample 1: Pred = 1.0, Error = 0.0, Weights = [ 0.3  0.3 -0.1]\n",
      "Sample 2: Pred = -1.0, Error = 0.0, Weights = [ 0.3  0.3 -0.1]\n",
      "Sample 3: Pred = -1.0, Error = 0.0, Weights = [ 0.3  0.3 -0.1]\n",
      "Sample 4: Pred = -1.0, Error = 0.0, Weights = [ 0.3  0.3 -0.1]\n",
      "\n",
      "Epoch 5\n",
      "Sample 1: Pred = 1.0, Error = 0.0, Weights = [ 0.3  0.3 -0.1]\n",
      "Sample 2: Pred = -1.0, Error = 0.0, Weights = [ 0.3  0.3 -0.1]\n",
      "Sample 3: Pred = -1.0, Error = 0.0, Weights = [ 0.3  0.3 -0.1]\n",
      "Sample 4: Pred = -1.0, Error = 0.0, Weights = [ 0.3  0.3 -0.1]\n",
      "\n",
      "Epoch 6\n",
      "Sample 1: Pred = 1.0, Error = 0.0, Weights = [ 0.3  0.3 -0.1]\n",
      "Sample 2: Pred = -1.0, Error = 0.0, Weights = [ 0.3  0.3 -0.1]\n",
      "Sample 3: Pred = -1.0, Error = 0.0, Weights = [ 0.3  0.3 -0.1]\n",
      "Sample 4: Pred = -1.0, Error = 0.0, Weights = [ 0.3  0.3 -0.1]\n",
      "\n",
      "Epoch 7\n",
      "Sample 1: Pred = 1.0, Error = 0.0, Weights = [ 0.3  0.3 -0.1]\n",
      "Sample 2: Pred = -1.0, Error = 0.0, Weights = [ 0.3  0.3 -0.1]\n",
      "Sample 3: Pred = -1.0, Error = 0.0, Weights = [ 0.3  0.3 -0.1]\n",
      "Sample 4: Pred = -1.0, Error = 0.0, Weights = [ 0.3  0.3 -0.1]\n",
      "\n",
      "Epoch 8\n",
      "Sample 1: Pred = 1.0, Error = 0.0, Weights = [ 0.3  0.3 -0.1]\n",
      "Sample 2: Pred = -1.0, Error = 0.0, Weights = [ 0.3  0.3 -0.1]\n",
      "Sample 3: Pred = -1.0, Error = 0.0, Weights = [ 0.3  0.3 -0.1]\n",
      "Sample 4: Pred = -1.0, Error = 0.0, Weights = [ 0.3  0.3 -0.1]\n",
      "\n",
      "Epoch 9\n",
      "Sample 1: Pred = 1.0, Error = 0.0, Weights = [ 0.3  0.3 -0.1]\n",
      "Sample 2: Pred = -1.0, Error = 0.0, Weights = [ 0.3  0.3 -0.1]\n",
      "Sample 3: Pred = -1.0, Error = 0.0, Weights = [ 0.3  0.3 -0.1]\n",
      "Sample 4: Pred = -1.0, Error = 0.0, Weights = [ 0.3  0.3 -0.1]\n",
      "\n",
      "Epoch 10\n",
      "Sample 1: Pred = 1.0, Error = 0.0, Weights = [ 0.3  0.3 -0.1]\n",
      "Sample 2: Pred = -1.0, Error = 0.0, Weights = [ 0.3  0.3 -0.1]\n",
      "Sample 3: Pred = -1.0, Error = 0.0, Weights = [ 0.3  0.3 -0.1]\n",
      "Sample 4: Pred = -1.0, Error = 0.0, Weights = [ 0.3  0.3 -0.1]\n",
      "\n",
      "Final Weights after Perceptron Delta Rule:  [ 0.3  0.3 -0.1]\n"
     ]
    }
   ],
   "source": [
    "# Delta Rule\n",
    "\n",
    "import numpy as np\n",
    "\n",
    "X = np.array([[1, 1, 1],\n",
    "             [1, -1, 1],\n",
    "             [-1, 1, 1],\n",
    "             [-1, -1, 1]])\n",
    "Y = np.array([1, -1, -1, -1])\n",
    "\n",
    "weights = np.zeros(3)\n",
    "learning_rate = 0.1\n",
    "\n",
    "for epoch in range(10):\n",
    "    print(f\"\\nEpoch {epoch + 1}\")\n",
    "    for i in range(len(X)):\n",
    "        y_pred = np.sign(np.dot(X[i], weights))\n",
    "        error = Y[i] - y_pred\n",
    "        weights += learning_rate * error * X[i]\n",
    "        print(f\"Sample {i + 1}: Pred = {y_pred}, Error = {error}, Weights = {weights}\")\n",
    "\n",
    "print(\"\\nFinal Weights after Perceptron Delta Rule: \", weights)"
   ]
  }
 ],
 "metadata": {
  "kernelspec": {
   "display_name": "Python 3",
   "language": "python",
   "name": "python3"
  },
  "language_info": {
   "codemirror_mode": {
    "name": "ipython",
    "version": 3
   },
   "file_extension": ".py",
   "mimetype": "text/x-python",
   "name": "python",
   "nbconvert_exporter": "python",
   "pygments_lexer": "ipython3",
   "version": "3.12.7"
  }
 },
 "nbformat": 4,
 "nbformat_minor": 5
}

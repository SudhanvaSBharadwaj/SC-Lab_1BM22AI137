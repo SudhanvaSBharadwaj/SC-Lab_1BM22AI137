{
 "cells": [
  {
   "cell_type": "markdown",
   "id": "3171a620",
   "metadata": {},
   "source": [
    "### PROGRAM - 6 : Particle Swarm Optimization"
   ]
  },
  {
   "cell_type": "code",
   "execution_count": 1,
   "id": "64f752c7",
   "metadata": {},
   "outputs": [
    {
     "name": "stdout",
     "output_type": "stream",
     "text": [
      "Best Solution: [-2.49515878], Function Value: [13.75002344], Cost: 13.750023437420872\n"
     ]
    }
   ],
   "source": [
    "import numpy as np\n",
    "\n",
    "class PSO:\n",
    "    def __init__(self, dim, bounds, func, c1=0.8, c2=0.4, particles=20, iters=100):\n",
    "        self.dim, self.bounds, self.func = dim, bounds, func\n",
    "        self.c1, self.c2, self.particles, self.iters = c1, c2, particles, iters\n",
    "\n",
    "    def optimize(self):\n",
    "        loc = np.random.uniform(self.bounds[:, 0], self.bounds[:, 1], (self.particles, self.dim))\n",
    "        vel = pbest = loc.copy()\n",
    "        fit = self.func(loc)\n",
    "        gbest = loc[np.argmin(fit)]\n",
    "        best_cost = np.min(fit)\n",
    "\n",
    "        for i in range(self.iters):\n",
    "            r = np.random.rand(self.particles, 2)\n",
    "            vel = 0.9 * vel + self.c1 * r[:, 0:1] * (pbest - loc) + self.c2 * r[:, 1:2] * (gbest - loc)\n",
    "            loc = np.clip(loc + vel, self.bounds[:, 0], self.bounds[:, 1])\n",
    "            fit_new = self.func(loc)\n",
    "            pbest[fit_new < fit], fit = loc[fit_new < fit], np.minimum(fit, fit_new)\n",
    "            gbest = loc[np.argmin(fit)] if np.min(fit) < self.func(gbest) else gbest\n",
    "            best_cost = np.min(fit)\n",
    "\n",
    "        return gbest, self.func(gbest), best_cost\n",
    "\n",
    "def f(x): return x**2 + 5*x + 20\n",
    "\n",
    "bounds = np.array([[-10, 10]])\n",
    "\n",
    "pso = PSO(1, bounds, f, particles=10, iters=50)\n",
    "best_solution, best_value, best_cost = pso.optimize()\n",
    "print(f\"Best Solution: {best_solution}, Function Value: {best_value}, Cost: {best_cost}\")"
   ]
  }
 ],
 "metadata": {
  "kernelspec": {
   "display_name": "Python 3",
   "language": "python",
   "name": "python3"
  },
  "language_info": {
   "codemirror_mode": {
    "name": "ipython",
    "version": 3
   },
   "file_extension": ".py",
   "mimetype": "text/x-python",
   "name": "python",
   "nbconvert_exporter": "python",
   "pygments_lexer": "ipython3",
   "version": "3.12.7"
  }
 },
 "nbformat": 4,
 "nbformat_minor": 5
}
